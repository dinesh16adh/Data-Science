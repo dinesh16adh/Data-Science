{
 "cells": [
  {
   "cell_type": "code",
   "execution_count": null,
   "metadata": {},
   "outputs": [],
   "source": [
    "import numpy as np \n",
    "import pandas as pd \n",
    "import scipy .stats as stats\n",
    "import scipy .stats as ttest_1samp\n",
    "\n",
    "import math\n",
    "np.random.seed(11)\n",
    "school_ages=stats.poisson.rvs(mu=30,size=2000)\n",
    "classA_ages=stats.poisson.rvs(mu=35,size=80)"
   ]
  },
  {
   "cell_type": "code",
   "execution_count": 25,
   "metadata": {},
   "outputs": [
    {
     "data": {
      "text/plain": [
       "array([24, 29, 29, ..., 40, 21, 30], dtype=int64)"
      ]
     },
     "execution_count": 25,
     "metadata": {},
     "output_type": "execute_result"
    }
   ],
   "source": [
    "school_ages"
   ]
  },
  {
   "cell_type": "code",
   "execution_count": 26,
   "metadata": {},
   "outputs": [
    {
     "data": {
      "text/plain": [
       "array([30, 43, 28, 28, 43, 27, 30, 31, 32, 31, 31, 44, 37, 28, 31, 32, 31,\n",
       "       35, 35, 26, 32, 38, 42, 36, 50, 31, 46, 36, 31, 36, 38, 29, 34, 35,\n",
       "       40, 34, 35, 36, 27, 38, 36, 24, 39, 30, 35, 30, 33, 25, 20, 30, 35,\n",
       "       38, 32, 30, 26, 52, 33, 37, 38, 31, 33, 31, 23, 27, 37, 41, 30, 33,\n",
       "       38, 36, 37, 40, 38, 18, 40, 33, 42, 43, 43, 24], dtype=int64)"
      ]
     },
     "execution_count": 26,
     "metadata": {},
     "output_type": "execute_result"
    }
   ],
   "source": [
    "classA_ages"
   ]
  },
  {
   "cell_type": "code",
   "execution_count": 27,
   "metadata": {},
   "outputs": [
    {
     "data": {
      "text/plain": [
       "33.975"
      ]
     },
     "execution_count": 27,
     "metadata": {},
     "output_type": "execute_result"
    }
   ],
   "source": [
    "classA_ages.mean()"
   ]
  },
  {
   "cell_type": "code",
   "execution_count": 28,
   "metadata": {},
   "outputs": [
    {
     "ename": "TypeError",
     "evalue": "'module' object is not callable",
     "output_type": "error",
     "traceback": [
      "\u001b[1;31m---------------------------------------------------------------------------\u001b[0m",
      "\u001b[1;31mTypeError\u001b[0m                                 Traceback (most recent call last)",
      "Cell \u001b[1;32mIn[28], line 1\u001b[0m\n\u001b[1;32m----> 1\u001b[0m tstatistics,p_value\u001b[38;5;241m=\u001b[39m\u001b[43mttest_lsamp\u001b[49m\u001b[43m(\u001b[49m\u001b[43mclassA_ages\u001b[49m\u001b[43m,\u001b[49m\u001b[43mpopmean\u001b[49m\u001b[38;5;241;43m=\u001b[39;49m\u001b[43mschool_ages\u001b[49m\u001b[38;5;241;43m.\u001b[39;49m\u001b[43mmean\u001b[49m\u001b[43m(\u001b[49m\u001b[43m)\u001b[49m\u001b[43m)\u001b[49m\n",
      "\u001b[1;31mTypeError\u001b[0m: 'module' object is not callable"
     ]
    }
   ],
   "source": [
    "tstatistics,p_value=ttest_1samp(classA_ages,popmean=school_ages.mean())"
   ]
  }
 ],
 "metadata": {
  "kernelspec": {
   "display_name": "Python 3",
   "language": "python",
   "name": "python3"
  },
  "language_info": {
   "codemirror_mode": {
    "name": "ipython",
    "version": 3
   },
   "file_extension": ".py",
   "mimetype": "text/x-python",
   "name": "python",
   "nbconvert_exporter": "python",
   "pygments_lexer": "ipython3",
   "version": "3.12.2"
  }
 },
 "nbformat": 4,
 "nbformat_minor": 2
}
